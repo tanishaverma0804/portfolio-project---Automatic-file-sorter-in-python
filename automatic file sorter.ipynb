{
 "cells": [
  {
   "cell_type": "markdown",
   "id": "42d73b41-43a6-4a5f-8d39-48dfcb60a0a5",
   "metadata": {},
   "source": [
    "automatic file sorter in file explorer"
   ]
  },
  {
   "cell_type": "code",
   "execution_count": 2,
   "id": "d6309ddf-c3a2-46a1-8d36-bb5a6f3c5792",
   "metadata": {},
   "outputs": [],
   "source": [
    "import os, shutil"
   ]
  },
  {
   "cell_type": "code",
   "execution_count": 20,
   "id": "80b59bf1-ff1d-43e9-82b3-6cebb274b40f",
   "metadata": {},
   "outputs": [],
   "source": [
    "path = r\"C:/Users/verma/Documents/python tutorials/\""
   ]
  },
  {
   "cell_type": "code",
   "execution_count": 59,
   "id": "3bf956dc-34a8-4020-a1a0-dcca96c9edad",
   "metadata": {},
   "outputs": [
    {
     "data": {
      "text/plain": [
       "['excel files', 'image files', 'sql files']"
      ]
     },
     "execution_count": 59,
     "metadata": {},
     "output_type": "execute_result"
    }
   ],
   "source": [
    "os.listdir(path)"
   ]
  },
  {
   "cell_type": "code",
   "execution_count": 40,
   "id": "0e770d00-50c7-4ae9-9de8-147fddf4dd74",
   "metadata": {},
   "outputs": [],
   "source": [
    "file_name = os.listdir(path) #showing what files i have in that path."
   ]
  },
  {
   "cell_type": "code",
   "execution_count": 32,
   "id": "726a9a45-b3ef-4048-b977-ee4665bc5157",
   "metadata": {},
   "outputs": [
    {
     "name": "stdout",
     "output_type": "stream",
     "text": [
      "C:/Users/verma/Documents/python tutorials/excel files\n"
     ]
    }
   ],
   "source": [
    "folder_names = ['sql files', 'image files', 'excel files']\n",
    "\n",
    "for loop in range (0,3):\n",
    "   if not os.path.exists(path + folder_names[loop]):\n",
    "       print(path + folder_names[loop])\n",
    "       os.makedirs((path + folder_names[loop]))\n",
    "    "
   ]
  },
  {
   "cell_type": "code",
   "execution_count": 38,
   "id": "01f52c0b-a7b7-4d8a-9503-472afdcf6aaf",
   "metadata": {},
   "outputs": [],
   "source": [
    "for file in file_name:\n",
    "    if \".sql\" in file and not os.path.exists(path + \"sql files/\" + file):\n",
    "        shutil.move(path + file, path + \"sql files/\" + file)"
   ]
  },
  {
   "cell_type": "code",
   "execution_count": 57,
   "id": "27290af8-0f88-4ccf-8883-fffbb0ded0f2",
   "metadata": {},
   "outputs": [],
   "source": [
    "for file in file_name:\n",
    "    if \".sql\" in file and not os.path.exists(path + \"sql files/\" + file):\n",
    "        shutil.move(path + file, path + \"sql files/\" + file)\n",
    "    elif \".jpg\" in file and not os.path.exists(path + \"image files/\" + file):\n",
    "        shutil.move(path + file, path + \"image files/\" + file)\n",
    "    elif \".jpeg\" in file and not os.path.exists(path + \"image files/\" + file):\n",
    "        shutil.move(path + file, path + \"image files/\" + file)\n",
    "    elif \".xlsx\" in file and not os.path.exists(path + \"excel files/\" + file):\n",
    "        shutil.move(path + file, path + \"excel files/\" + file)\n"
   ]
  },
  {
   "cell_type": "code",
   "execution_count": null,
   "id": "1808179f-b518-4da7-9c3f-5b3701c699b6",
   "metadata": {},
   "outputs": [],
   "source": []
  },
  {
   "cell_type": "code",
   "execution_count": null,
   "id": "378d302d-5259-440d-ba02-f61b71a49ee9",
   "metadata": {},
   "outputs": [],
   "source": []
  },
  {
   "cell_type": "code",
   "execution_count": null,
   "id": "e4d10f3e-7df8-4901-97b6-5718cbb084f5",
   "metadata": {},
   "outputs": [],
   "source": []
  },
  {
   "cell_type": "code",
   "execution_count": null,
   "id": "b3b01be7-8ba6-4a34-b784-cdda52bfd38a",
   "metadata": {},
   "outputs": [],
   "source": []
  },
  {
   "cell_type": "code",
   "execution_count": null,
   "id": "b6e3ac6f-e846-4ab9-88d3-6c7ff40b6a46",
   "metadata": {},
   "outputs": [],
   "source": []
  },
  {
   "cell_type": "code",
   "execution_count": null,
   "id": "c8de97e4-d186-4018-bdc0-6809ff0e0275",
   "metadata": {},
   "outputs": [],
   "source": []
  },
  {
   "cell_type": "code",
   "execution_count": null,
   "id": "afaae87f-95ef-4b72-a87a-0b86082e5a1e",
   "metadata": {},
   "outputs": [],
   "source": []
  },
  {
   "cell_type": "code",
   "execution_count": null,
   "id": "a4e2c9e8-0324-48dc-b05e-67ce202ab15b",
   "metadata": {},
   "outputs": [],
   "source": []
  },
  {
   "cell_type": "code",
   "execution_count": null,
   "id": "a603caa5-c093-4be2-badd-0b7e7f444e07",
   "metadata": {},
   "outputs": [],
   "source": []
  },
  {
   "cell_type": "code",
   "execution_count": null,
   "id": "67e11407-c2c8-449c-bbda-83bfffc109e1",
   "metadata": {},
   "outputs": [],
   "source": []
  },
  {
   "cell_type": "code",
   "execution_count": null,
   "id": "047eb2cd-5586-4bc3-a726-3631118ffe06",
   "metadata": {},
   "outputs": [],
   "source": []
  },
  {
   "cell_type": "code",
   "execution_count": null,
   "id": "5f976a1e-1b7f-4458-9676-68a6ef4f9633",
   "metadata": {},
   "outputs": [],
   "source": []
  },
  {
   "cell_type": "code",
   "execution_count": null,
   "id": "a9c07f78-f458-47ca-9e86-049c9131b391",
   "metadata": {},
   "outputs": [],
   "source": []
  },
  {
   "cell_type": "code",
   "execution_count": null,
   "id": "e6f21f99-3f30-4dec-b0af-6cc4f0d34ae8",
   "metadata": {},
   "outputs": [],
   "source": []
  }
 ],
 "metadata": {
  "kernelspec": {
   "display_name": "Python 3 (ipykernel)",
   "language": "python",
   "name": "python3"
  },
  "language_info": {
   "codemirror_mode": {
    "name": "ipython",
    "version": 3
   },
   "file_extension": ".py",
   "mimetype": "text/x-python",
   "name": "python",
   "nbconvert_exporter": "python",
   "pygments_lexer": "ipython3",
   "version": "3.12.7"
  }
 },
 "nbformat": 4,
 "nbformat_minor": 5
}
